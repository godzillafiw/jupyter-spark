{
 "cells": [
  {
   "cell_type": "code",
   "execution_count": 3,
   "id": "7b5cb2f7",
   "metadata": {},
   "outputs": [
    {
     "name": "stdout",
     "output_type": "stream",
     "text": [
      "retail-sales-index-at-constant-prices-by-industry-quarterly.csv\r\n",
      "retail-sales-index-at-constant-prices-quarterly.csv\r\n"
     ]
    }
   ],
   "source": [
    "!ls ../data"
   ]
  },
  {
   "cell_type": "code",
   "execution_count": 99,
   "id": "c7fe08a8",
   "metadata": {},
   "outputs": [],
   "source": [
    "from pyspark.sql import SparkSession\n",
    "from pyspark.sql.functions import mean as _mean, stddev as _stddev, col\n",
    "from pyspark.sql.types import *"
   ]
  },
  {
   "cell_type": "code",
   "execution_count": 9,
   "id": "eb4e82d9",
   "metadata": {},
   "outputs": [],
   "source": [
    "spark = SparkSession \\\n",
    "    .builder \\\n",
    "    .appName(\"ReadData\") \\\n",
    "    .getOrCreate()"
   ]
  },
  {
   "cell_type": "code",
   "execution_count": 12,
   "id": "07537e6f",
   "metadata": {},
   "outputs": [
    {
     "data": {
      "text/plain": [
       "'3.2.0'"
      ]
     },
     "execution_count": 12,
     "metadata": {},
     "output_type": "execute_result"
    }
   ],
   "source": [
    "spark.version"
   ]
  },
  {
   "cell_type": "code",
   "execution_count": 18,
   "id": "02429dba",
   "metadata": {},
   "outputs": [],
   "source": [
    "df = spark.read \\\n",
    "    .csv('../data/retail-sales-index-at-constant-prices-by-industry-quarterly.csv',header=True)"
   ]
  },
  {
   "cell_type": "code",
   "execution_count": 19,
   "id": "759aa32e",
   "metadata": {},
   "outputs": [
    {
     "data": {
      "text/plain": [
       "pyspark.sql.dataframe.DataFrame"
      ]
     },
     "execution_count": 19,
     "metadata": {},
     "output_type": "execute_result"
    }
   ],
   "source": [
    "type(df)"
   ]
  },
  {
   "cell_type": "code",
   "execution_count": 44,
   "id": "80b74deb",
   "metadata": {},
   "outputs": [
    {
     "name": "stdout",
     "output_type": "stream",
     "text": [
      "root\n",
      " |-- quarter: string (nullable = true)\n",
      " |-- level_one: string (nullable = true)\n",
      " |-- level_2: string (nullable = true)\n",
      " |-- value: string (nullable = true)\n",
      "\n"
     ]
    }
   ],
   "source": [
    "df.printSchema()"
   ]
  },
  {
   "cell_type": "code",
   "execution_count": 21,
   "id": "f182b2dc",
   "metadata": {},
   "outputs": [
    {
     "name": "stdout",
     "output_type": "stream",
     "text": [
      "+-------+-------+--------------------+-----+\n",
      "|quarter|level_1|             level_2|value|\n",
      "+-------+-------+--------------------+-----+\n",
      "|1985-Q1|  Total|   Department Stores|   na|\n",
      "|1985-Q1|  Total|        Supermarkets|   na|\n",
      "|1985-Q1|  Total|Mini-marts & Conv...| 91.4|\n",
      "|1985-Q1|  Total|      Food Retailers|   na|\n",
      "|1985-Q1|  Total|      Motor Vehicles| 25.6|\n",
      "+-------+-------+--------------------+-----+\n",
      "only showing top 5 rows\n",
      "\n"
     ]
    }
   ],
   "source": [
    "df.show(5)"
   ]
  },
  {
   "cell_type": "code",
   "execution_count": 23,
   "id": "346acfc8",
   "metadata": {},
   "outputs": [],
   "source": [
    "df = df.withColumnRenamed('level_1','level_one')"
   ]
  },
  {
   "cell_type": "code",
   "execution_count": 24,
   "id": "90389837",
   "metadata": {},
   "outputs": [
    {
     "name": "stdout",
     "output_type": "stream",
     "text": [
      "+-------+---------+-----------------+-----+\n",
      "|quarter|level_one|          level_2|value|\n",
      "+-------+---------+-----------------+-----+\n",
      "|1985-Q1|    Total|Department Stores|   na|\n",
      "|1985-Q1|    Total|     Supermarkets|   na|\n",
      "+-------+---------+-----------------+-----+\n",
      "only showing top 2 rows\n",
      "\n"
     ]
    }
   ],
   "source": [
    "df.show(2)"
   ]
  },
  {
   "cell_type": "code",
   "execution_count": 57,
   "id": "260135db",
   "metadata": {},
   "outputs": [],
   "source": [
    "df_stat = df.select(\n",
    "    _mean(col('value')).alias('mean'),\n",
    "    _stddev(col('value')).alias('std')\n",
    "    ).collect()"
   ]
  },
  {
   "cell_type": "code",
   "execution_count": 58,
   "id": "81aec5f8",
   "metadata": {},
   "outputs": [
    {
     "name": "stdout",
     "output_type": "stream",
     "text": [
      "[Row(mean=86.08110964332887, std=31.680109202126996)]\n"
     ]
    }
   ],
   "source": [
    "print(df_stat)"
   ]
  },
  {
   "cell_type": "code",
   "execution_count": 75,
   "id": "eddaf493",
   "metadata": {},
   "outputs": [
    {
     "name": "stdout",
     "output_type": "stream",
     "text": [
      "Mean: 86.08110964332887\n",
      "STD: 31.680109202126996\n"
     ]
    }
   ],
   "source": [
    "mean = df_stat[0]['mean']\n",
    "std = df_stat[0]['std']\n",
    "print('Mean:',mean)\n",
    "print('STD:',std)"
   ]
  },
  {
   "cell_type": "code",
   "execution_count": 118,
   "id": "0d9431ce",
   "metadata": {},
   "outputs": [
    {
     "name": "stdout",
     "output_type": "stream",
     "text": [
      "+-------+---------+--------------------+-----+----------+\n",
      "|quarter|level_one|             level_2|value|       day|\n",
      "+-------+---------+--------------------+-----+----------+\n",
      "|1985-Q1|    Total|   Department Stores|    0|2021-10-28|\n",
      "|1985-Q1|    Total|        Supermarkets|    0|2021-10-28|\n",
      "|1985-Q1|    Total|Mini-marts & Conv...|   91|2021-10-28|\n",
      "|1985-Q1|    Total|      Food Retailers|    0|2021-10-28|\n",
      "|1985-Q1|    Total|      Motor Vehicles|   25|2021-10-28|\n",
      "|1985-Q1|    Total|Petrol Service St...|   67|2021-10-28|\n",
      "|1985-Q1|    Total|Medical Goods & T...|    0|2021-10-28|\n",
      "|1985-Q1|    Total|Wearing Apparel &...|    0|2021-10-28|\n",
      "|1985-Q1|    Total|Furniture & House...|   47|2021-10-28|\n",
      "|1985-Q1|    Total|  Recreational Goods|    0|2021-10-28|\n",
      "|1985-Q1|    Total| Watches & Jewellery|    0|2021-10-28|\n",
      "|1985-Q1|    Total|Computer & Teleco...|    0|2021-10-28|\n",
      "|1985-Q1|    Total|Optical Goods & B...|    0|2021-10-28|\n",
      "|1985-Q1|    Total|              Others|    0|2021-10-28|\n",
      "|1985-Q2|    Total|   Department Stores|    0|2021-10-28|\n",
      "|1985-Q2|    Total|        Supermarkets|    0|2021-10-28|\n",
      "|1985-Q2|    Total|Mini-marts & Conv...|   78|2021-10-28|\n",
      "|1985-Q2|    Total|      Food Retailers|    0|2021-10-28|\n",
      "|1985-Q2|    Total|      Motor Vehicles|   12|2021-10-28|\n",
      "|1985-Q2|    Total|Petrol Service St...|   62|2021-10-28|\n",
      "+-------+---------+--------------------+-----+----------+\n",
      "only showing top 20 rows\n",
      "\n"
     ]
    }
   ],
   "source": [
    "df.na.fill(mean,subset=['value']).show()"
   ]
  },
  {
   "cell_type": "code",
   "execution_count": 120,
   "id": "1cba1439",
   "metadata": {},
   "outputs": [
    {
     "data": {
      "text/plain": [
       "10"
      ]
     },
     "execution_count": 120,
     "metadata": {},
     "output_type": "execute_result"
    }
   ],
   "source": [
    "df.filter(\"value = '0' and quarter = '1985-Q1'\").count()"
   ]
  },
  {
   "cell_type": "code",
   "execution_count": 116,
   "id": "fa3ad150",
   "metadata": {},
   "outputs": [
    {
     "name": "stdout",
     "output_type": "stream",
     "text": [
      "+-------+---------+--------------------+-----+----------+\n",
      "|quarter|level_one|             level_2|value|       day|\n",
      "+-------+---------+--------------------+-----+----------+\n",
      "|1985-Q1|    Total|   Department Stores|    0|2021-10-28|\n",
      "|1985-Q1|    Total|        Supermarkets|    0|2021-10-28|\n",
      "|1985-Q1|    Total|Mini-marts & Conv...|   91|2021-10-28|\n",
      "|1985-Q1|    Total|      Food Retailers|    0|2021-10-28|\n",
      "|1985-Q1|    Total|      Motor Vehicles|   25|2021-10-28|\n",
      "+-------+---------+--------------------+-----+----------+\n",
      "only showing top 5 rows\n",
      "\n"
     ]
    }
   ],
   "source": [
    "df = df.withColumn('value',regexp_replace('value','na','0'))\n",
    "df = df.withColumn('value',col('value').astype(IntegerType()))\n",
    "df = df.withColumn('day',date_add(current_date(),+1))\n",
    "df.show(5)"
   ]
  },
  {
   "cell_type": "code",
   "execution_count": 117,
   "id": "98826c22",
   "metadata": {},
   "outputs": [],
   "source": [
    "df.write.mode('append').partitionBy('day').format(\"parquet\").save('../data/retail')"
   ]
  },
  {
   "cell_type": "code",
   "execution_count": 121,
   "id": "e6cdf157",
   "metadata": {},
   "outputs": [
    {
     "name": "stdout",
     "output_type": "stream",
     "text": [
      "+-------+---------+--------------------+-----+\n",
      "|quarter|level_one|             level_2|value|\n",
      "+-------+---------+--------------------+-----+\n",
      "|1985-Q1|    Total|   Department Stores|    0|\n",
      "|1985-Q1|    Total|        Supermarkets|    0|\n",
      "|1985-Q1|    Total|Mini-marts & Conv...|   91|\n",
      "|1985-Q1|    Total|      Food Retailers|    0|\n",
      "|1985-Q1|    Total|      Motor Vehicles|   25|\n",
      "+-------+---------+--------------------+-----+\n",
      "only showing top 5 rows\n",
      "\n"
     ]
    }
   ],
   "source": [
    "df.drop('day').show(5)"
   ]
  },
  {
   "cell_type": "code",
   "execution_count": 123,
   "id": "b72ad632",
   "metadata": {},
   "outputs": [
    {
     "data": {
      "text/plain": [
       "1834"
      ]
     },
     "execution_count": 123,
     "metadata": {},
     "output_type": "execute_result"
    }
   ],
   "source": [
    "df.distinct().count()"
   ]
  },
  {
   "cell_type": "code",
   "execution_count": null,
   "id": "fe1ac739",
   "metadata": {},
   "outputs": [],
   "source": []
  }
 ],
 "metadata": {
  "kernelspec": {
   "display_name": "Python 3 (ipykernel)",
   "language": "python",
   "name": "python3"
  },
  "language_info": {
   "codemirror_mode": {
    "name": "ipython",
    "version": 3
   },
   "file_extension": ".py",
   "mimetype": "text/x-python",
   "name": "python",
   "nbconvert_exporter": "python",
   "pygments_lexer": "ipython3",
   "version": "3.9.7"
  }
 },
 "nbformat": 4,
 "nbformat_minor": 5
}
