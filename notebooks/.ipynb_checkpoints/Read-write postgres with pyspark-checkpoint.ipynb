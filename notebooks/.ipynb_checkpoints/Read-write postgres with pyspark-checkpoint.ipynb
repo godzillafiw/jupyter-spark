{
 "cells": [
  {
   "cell_type": "code",
   "execution_count": 23,
   "id": "1fbc3d52",
   "metadata": {},
   "outputs": [],
   "source": [
    "from pyspark.sql import SparkSession\n",
    "from pyspark.sql.functions import mean as _mean, stddev as _stddev, col\n",
    "from pyspark.sql.types import *\n",
    "from pyspark.sql.functions import concat,concat_ws"
   ]
  },
  {
   "cell_type": "code",
   "execution_count": 3,
   "id": "2eb8b69e",
   "metadata": {},
   "outputs": [
    {
     "name": "stderr",
     "output_type": "stream",
     "text": [
      "WARNING: An illegal reflective access operation has occurred\n",
      "WARNING: Illegal reflective access by org.apache.spark.unsafe.Platform (file:/usr/local/spark-3.2.0-bin-hadoop3.2/jars/spark-unsafe_2.12-3.2.0.jar) to constructor java.nio.DirectByteBuffer(long,int)\n",
      "WARNING: Please consider reporting this to the maintainers of org.apache.spark.unsafe.Platform\n",
      "WARNING: Use --illegal-access=warn to enable warnings of further illegal reflective access operations\n",
      "WARNING: All illegal access operations will be denied in a future release\n",
      "21/10/27 06:44:53 WARN NativeCodeLoader: Unable to load native-hadoop library for your platform... using builtin-java classes where applicable\n",
      "Using Spark's default log4j profile: org/apache/spark/log4j-defaults.properties\n",
      "Setting default log level to \"WARN\".\n",
      "To adjust logging level use sc.setLogLevel(newLevel). For SparkR, use setLogLevel(newLevel).\n",
      "21/10/27 06:44:54 WARN Utils: Service 'SparkUI' could not bind on port 4040. Attempting port 4041.\n"
     ]
    }
   ],
   "source": [
    "spark = SparkSession \\\n",
    "    .builder \\\n",
    "    .appName(\"ReadData\") \\\n",
    "    .config('spark.driver.extraClassPath',\"/home/jovyan/work/jars/postgresql-42.2.24.jar\") \\\n",
    "    .config(\"spark.jars\", \"/home/jovyan/work/jars/postgresql-42.2.24.jar\") \\\n",
    "    .getOrCreate()"
   ]
  },
  {
   "cell_type": "code",
   "execution_count": 4,
   "id": "b9075249",
   "metadata": {},
   "outputs": [
    {
     "data": {
      "text/plain": [
       "'3.2.0'"
      ]
     },
     "execution_count": 4,
     "metadata": {},
     "output_type": "execute_result"
    }
   ],
   "source": [
    "spark.version"
   ]
  },
  {
   "cell_type": "code",
   "execution_count": 69,
   "id": "98c05f3d",
   "metadata": {},
   "outputs": [],
   "source": [
    "def read_psql(db_name,db_username,db_password,db_table):\n",
    "    df = spark.read \\\n",
    "                .format(\"jdbc\") \\\n",
    "                .option(\"url\", \"jdbc:postgresql://postgres-data:5432/\"+db_name) \\\n",
    "                .option(\"dbtable\", db_table) \\\n",
    "                .option(\"user\", db_username) \\\n",
    "                .option(\"password\", db_password) \\\n",
    "                .option(\"driver\", \"org.postgresql.Driver\") \\\n",
    "                .load()\n",
    "    return df"
   ]
  },
  {
   "cell_type": "code",
   "execution_count": 70,
   "id": "24aaf838",
   "metadata": {},
   "outputs": [],
   "source": [
    "def write_psql(db_name,db_username,db_password,write_mode,db_table,df):\n",
    "    df.write.format('jdbc') \\\n",
    "        .option('url','jdbc:postgresql://postgres-data:5432/'+db_name) \\\n",
    "        .option('dbtable', db_table) \\\n",
    "        .option('user', db_username) \\\n",
    "        .option('password', db_password) \\\n",
    "        .option('driver','org.postgresql.Driver') \\\n",
    "        .mode(write_mode).save()\n",
    "    return None"
   ]
  },
  {
   "cell_type": "code",
   "execution_count": 80,
   "id": "63613b46",
   "metadata": {},
   "outputs": [],
   "source": [
    "def read_warehouse(db_table):\n",
    "    db_name = 'dvdrental'\n",
    "    db_username = 'postgres'\n",
    "    db_password = 'postgres'\n",
    "    return read_psql(db_name,db_username,db_password,db_table)"
   ]
  },
  {
   "cell_type": "code",
   "execution_count": 95,
   "id": "3947eb4c",
   "metadata": {},
   "outputs": [],
   "source": [
    "def write_warehouse(write_mode,db_table,df):\n",
    "    db_name = 'dvdrental'\n",
    "    db_username = 'postgres'\n",
    "    db_password = 'postgres'\n",
    "    return write_psql(db_name,db_username,db_password,write_mode,db_table,df)"
   ]
  },
  {
   "cell_type": "code",
   "execution_count": 84,
   "id": "974113ab",
   "metadata": {},
   "outputs": [
    {
     "name": "stdout",
     "output_type": "stream",
     "text": [
      "root\n",
      " |-- payment_id: integer (nullable = true)\n",
      " |-- customer_id: short (nullable = true)\n",
      " |-- staff_id: short (nullable = true)\n",
      " |-- rental_id: integer (nullable = true)\n",
      " |-- amount: decimal(5,2) (nullable = true)\n",
      " |-- payment_date: timestamp (nullable = true)\n",
      "\n"
     ]
    }
   ],
   "source": [
    "# Read payment from database\n",
    "db_table='payment'\n",
    "payment = read_warehouse(db_table)\n",
    "payment.printSchema()"
   ]
  },
  {
   "cell_type": "code",
   "execution_count": 85,
   "id": "51eb4612",
   "metadata": {},
   "outputs": [
    {
     "data": {
      "text/plain": [
       "14596"
      ]
     },
     "execution_count": 85,
     "metadata": {},
     "output_type": "execute_result"
    }
   ],
   "source": [
    "payment.count()"
   ]
  },
  {
   "cell_type": "code",
   "execution_count": 106,
   "id": "973a4d52",
   "metadata": {},
   "outputs": [
    {
     "name": "stdout",
     "output_type": "stream",
     "text": [
      "root\n",
      " |-- customer_id: integer (nullable = true)\n",
      " |-- store_id: short (nullable = true)\n",
      " |-- first_name: string (nullable = true)\n",
      " |-- last_name: string (nullable = true)\n",
      " |-- email: string (nullable = true)\n",
      " |-- address_id: short (nullable = true)\n",
      " |-- activebool: boolean (nullable = true)\n",
      " |-- create_date: date (nullable = true)\n",
      " |-- last_update: timestamp (nullable = true)\n",
      " |-- active: integer (nullable = true)\n",
      "\n"
     ]
    }
   ],
   "source": [
    "# Read payment from database\n",
    "db_table='customer'\n",
    "customer = read_warehouse(db_table)\n",
    "customer.printSchema()"
   ]
  },
  {
   "cell_type": "code",
   "execution_count": 112,
   "id": "3548779f",
   "metadata": {},
   "outputs": [
    {
     "name": "stdout",
     "output_type": "stream",
     "text": [
      "root\n",
      " |-- customer_id: short (nullable = true)\n",
      " |-- payment_id: integer (nullable = true)\n",
      " |-- staff_id: short (nullable = true)\n",
      " |-- rental_id: integer (nullable = true)\n",
      " |-- amount: decimal(5,2) (nullable = true)\n",
      " |-- payment_date: timestamp (nullable = true)\n",
      " |-- store_id: short (nullable = true)\n",
      " |-- first_name: string (nullable = true)\n",
      " |-- last_name: string (nullable = true)\n",
      " |-- email: string (nullable = true)\n",
      " |-- address_id: short (nullable = true)\n",
      " |-- activebool: boolean (nullable = true)\n",
      " |-- create_date: date (nullable = true)\n",
      " |-- last_update: timestamp (nullable = true)\n",
      " |-- active: integer (nullable = true)\n",
      "\n"
     ]
    }
   ],
   "source": [
    "df = payment.join(customer,'customer_id','left_outer')\n",
    "df.count()\n",
    "df.printSchema()\n",
    "df.dropDuplicates()\n",
    "df = df.groupBy('customer_id').sum('amount') \\\n",
    "    .withColumnRenamed('sum(amount)','total')"
   ]
  },
  {
   "cell_type": "code",
   "execution_count": 113,
   "id": "f053af7a",
   "metadata": {},
   "outputs": [
    {
     "name": "stdout",
     "output_type": "stream",
     "text": [
      "None\n"
     ]
    }
   ],
   "source": [
    "#Write user deactive to new customer_deactiove table\n",
    "db_table = 'customer3'\n",
    "write_mode = 'overwrite'\n",
    "\n",
    "wr = write_warehouse(write_mode,db_table,df)\n",
    "print(wr)"
   ]
  },
  {
   "cell_type": "code",
   "execution_count": null,
   "id": "3f3cddbc",
   "metadata": {},
   "outputs": [],
   "source": []
  }
 ],
 "metadata": {
  "kernelspec": {
   "display_name": "Python 3 (ipykernel)",
   "language": "python",
   "name": "python3"
  },
  "language_info": {
   "codemirror_mode": {
    "name": "ipython",
    "version": 3
   },
   "file_extension": ".py",
   "mimetype": "text/x-python",
   "name": "python",
   "nbconvert_exporter": "python",
   "pygments_lexer": "ipython3",
   "version": "3.9.7"
  }
 },
 "nbformat": 4,
 "nbformat_minor": 5
}
