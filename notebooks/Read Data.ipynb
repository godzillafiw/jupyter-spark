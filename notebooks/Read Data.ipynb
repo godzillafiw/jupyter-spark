{
 "cells": [
  {
   "cell_type": "code",
   "execution_count": 1,
   "id": "71a5a75d",
   "metadata": {},
   "outputs": [
    {
     "name": "stdout",
     "output_type": "stream",
     "text": [
      "dvdrental      retail_db.sql\r\n",
      "dvdrental.zip  retail-sales-index-at-constant-prices-by-industry-quarterly.csv\r\n",
      "retail\t       retail-sales-index-at-constant-prices-quarterly.csv\r\n"
     ]
    }
   ],
   "source": [
    "!ls ../data"
   ]
  },
  {
   "cell_type": "code",
   "execution_count": 2,
   "id": "b71b29ec",
   "metadata": {},
   "outputs": [],
   "source": [
    "from pyspark.sql import SparkSession\n",
    "from pyspark.sql.functions import mean as _mean, stddev as _stddev, col\n",
    "from pyspark.sql.types import *"
   ]
  },
  {
   "cell_type": "code",
   "execution_count": 3,
   "id": "5b16435a",
   "metadata": {},
   "outputs": [
    {
     "name": "stderr",
     "output_type": "stream",
     "text": [
      "WARNING: An illegal reflective access operation has occurred\n",
      "WARNING: Illegal reflective access by org.apache.spark.unsafe.Platform (file:/usr/local/spark-3.2.0-bin-hadoop3.2/jars/spark-unsafe_2.12-3.2.0.jar) to constructor java.nio.DirectByteBuffer(long,int)\n",
      "WARNING: Please consider reporting this to the maintainers of org.apache.spark.unsafe.Platform\n",
      "WARNING: Use --illegal-access=warn to enable warnings of further illegal reflective access operations\n",
      "WARNING: All illegal access operations will be denied in a future release\n",
      "21/10/27 06:36:32 WARN NativeCodeLoader: Unable to load native-hadoop library for your platform... using builtin-java classes where applicable\n",
      "Using Spark's default log4j profile: org/apache/spark/log4j-defaults.properties\n",
      "Setting default log level to \"WARN\".\n",
      "To adjust logging level use sc.setLogLevel(newLevel). For SparkR, use setLogLevel(newLevel).\n"
     ]
    }
   ],
   "source": [
    "spark = SparkSession \\\n",
    "    .builder \\\n",
    "    .appName(\"ReadData\") \\\n",
    "    .config('spark.driver.extraClassPath',\"/home/jovyan/work/jars/postgresql-42.2.24.jar\") \\\n",
    "    .config(\"spark.jars\", \"/home/jovyan/work/jars/postgresql-42.2.24.jar\") \\\n",
    "    .getOrCreate()"
   ]
  },
  {
   "cell_type": "code",
   "execution_count": 4,
   "id": "cde13cdc",
   "metadata": {},
   "outputs": [
    {
     "data": {
      "text/plain": [
       "'3.2.0'"
      ]
     },
     "execution_count": 4,
     "metadata": {},
     "output_type": "execute_result"
    }
   ],
   "source": [
    "spark.version"
   ]
  },
  {
   "cell_type": "code",
   "execution_count": 7,
   "id": "8c099dc8",
   "metadata": {},
   "outputs": [],
   "source": [
    "data = spark.read \\\n",
    "            .format(\"jdbc\") \\\n",
    "            .option(\"url\", \"jdbc:postgresql://postgres-data:5432/dvdrental\") \\\n",
    "            .option(\"dbtable\", 'customer') \\\n",
    "            .option(\"user\", 'postgres') \\\n",
    "            .option(\"password\", 'postgres') \\\n",
    "            .option(\"driver\", \"org.postgresql.Driver\") \\\n",
    "            .load()"
   ]
  },
  {
   "cell_type": "code",
   "execution_count": 8,
   "id": "0c329d9a",
   "metadata": {},
   "outputs": [
    {
     "name": "stderr",
     "output_type": "stream",
     "text": [
      "\r",
      "[Stage 0:>                                                          (0 + 1) / 1]\r"
     ]
    },
    {
     "name": "stdout",
     "output_type": "stream",
     "text": [
      "+-----------+--------+----------+---------+--------------------+----------+----------+-----------+--------------------+------+\n",
      "|customer_id|store_id|first_name|last_name|               email|address_id|activebool|create_date|         last_update|active|\n",
      "+-----------+--------+----------+---------+--------------------+----------+----------+-----------+--------------------+------+\n",
      "|        524|       1|     Jared|      Ely|jared.ely@sakilac...|       530|      true| 2006-02-14|2013-05-26 14:49:...|     1|\n",
      "|          1|       1|      Mary|    Smith|mary.smith@sakila...|         5|      true| 2006-02-14|2013-05-26 14:49:...|     1|\n",
      "+-----------+--------+----------+---------+--------------------+----------+----------+-----------+--------------------+------+\n",
      "only showing top 2 rows\n",
      "\n"
     ]
    },
    {
     "name": "stderr",
     "output_type": "stream",
     "text": [
      "\r",
      "                                                                                \r"
     ]
    }
   ],
   "source": [
    "data.show(2)"
   ]
  },
  {
   "cell_type": "code",
   "execution_count": null,
   "id": "e2eeb638",
   "metadata": {},
   "outputs": [],
   "source": [
    "df = spark.read \\\n",
    "    .csv('../data/retail-sales-index-at-constant-prices-by-industry-quarterly.csv',header=True)"
   ]
  },
  {
   "cell_type": "code",
   "execution_count": null,
   "id": "a08234d6",
   "metadata": {},
   "outputs": [],
   "source": [
    "type(df)"
   ]
  },
  {
   "cell_type": "code",
   "execution_count": null,
   "id": "bff9c3a6",
   "metadata": {},
   "outputs": [],
   "source": [
    "df.printSchema()"
   ]
  },
  {
   "cell_type": "code",
   "execution_count": null,
   "id": "32fa0cf7",
   "metadata": {},
   "outputs": [],
   "source": [
    "df.show(5)"
   ]
  },
  {
   "cell_type": "code",
   "execution_count": null,
   "id": "f92d5d5f",
   "metadata": {},
   "outputs": [],
   "source": [
    "df = df.withColumnRenamed('level_1','level_one')"
   ]
  },
  {
   "cell_type": "code",
   "execution_count": null,
   "id": "064098c6",
   "metadata": {},
   "outputs": [],
   "source": [
    "df.show(2)"
   ]
  },
  {
   "cell_type": "code",
   "execution_count": null,
   "id": "7ba5b5ec",
   "metadata": {},
   "outputs": [],
   "source": [
    "df_stat = df.select(\n",
    "    _mean(col('value')).alias('mean'),\n",
    "    _stddev(col('value')).alias('std')\n",
    "    ).collect()"
   ]
  },
  {
   "cell_type": "code",
   "execution_count": null,
   "id": "a3f22d72",
   "metadata": {},
   "outputs": [],
   "source": [
    "print(df_stat)"
   ]
  },
  {
   "cell_type": "code",
   "execution_count": null,
   "id": "1ffc0019",
   "metadata": {},
   "outputs": [],
   "source": [
    "mean = df_stat[0]['mean']\n",
    "std = df_stat[0]['std']\n",
    "print('Mean:',mean)\n",
    "print('STD:',std)"
   ]
  },
  {
   "cell_type": "code",
   "execution_count": null,
   "id": "91bd732f",
   "metadata": {},
   "outputs": [],
   "source": [
    "df.na.fill(mean,subset=['value']).show()"
   ]
  },
  {
   "cell_type": "code",
   "execution_count": null,
   "id": "752154d8",
   "metadata": {},
   "outputs": [],
   "source": [
    "df.filter(\"value = '0' and quarter = '1985-Q1'\").count()"
   ]
  },
  {
   "cell_type": "code",
   "execution_count": null,
   "id": "15935d1f",
   "metadata": {},
   "outputs": [],
   "source": [
    "df = df.withColumn('value',regexp_replace('value','na','0'))\n",
    "df = df.withColumn('value',col('value').astype(IntegerType()))\n",
    "df = df.withColumn('day',date_add(current_date(),+1))\n",
    "df.show(5)"
   ]
  },
  {
   "cell_type": "code",
   "execution_count": null,
   "id": "13cf7d70",
   "metadata": {},
   "outputs": [],
   "source": [
    "df.write.mode('append').partitionBy('day').format(\"parquet\").save('../data/retail')"
   ]
  },
  {
   "cell_type": "code",
   "execution_count": null,
   "id": "0f037d0b",
   "metadata": {},
   "outputs": [],
   "source": [
    "df.drop('day').show(5)"
   ]
  },
  {
   "cell_type": "code",
   "execution_count": null,
   "id": "98136b67",
   "metadata": {},
   "outputs": [],
   "source": [
    "df.distinct().count()"
   ]
  },
  {
   "cell_type": "code",
   "execution_count": null,
   "id": "56bf36d3",
   "metadata": {},
   "outputs": [],
   "source": [
    "df.dropDuplicates().count()"
   ]
  }
 ],
 "metadata": {
  "kernelspec": {
   "display_name": "Python 3 (ipykernel)",
   "language": "python",
   "name": "python3"
  },
  "language_info": {
   "codemirror_mode": {
    "name": "ipython",
    "version": 3
   },
   "file_extension": ".py",
   "mimetype": "text/x-python",
   "name": "python",
   "nbconvert_exporter": "python",
   "pygments_lexer": "ipython3",
   "version": "3.9.7"
  }
 },
 "nbformat": 4,
 "nbformat_minor": 5
}
